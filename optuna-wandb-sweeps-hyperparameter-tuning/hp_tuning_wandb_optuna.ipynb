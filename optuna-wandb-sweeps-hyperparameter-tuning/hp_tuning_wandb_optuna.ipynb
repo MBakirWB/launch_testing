{
 "cells": [
  {
   "cell_type": "markdown",
   "metadata": {},
   "source": [
    "# Bonus: hyperparameter optimization using WandB Sweeps + Optuna"
   ]
  },
  {
   "cell_type": "markdown",
   "metadata": {},
   "source": [
    "### !!! Warning\n",
    "To be able to run the code below you need to have a WandB account"
   ]
  },
  {
   "cell_type": "markdown",
   "metadata": {},
   "source": [
    "## Login to WandB"
   ]
  },
  {
   "cell_type": "code",
   "execution_count": 22,
   "metadata": {},
   "outputs": [],
   "source": [
    "import wandb\n",
    "import inspect\n",
    "from wandb import CommError\n",
    "import yaml"
   ]
  },
  {
   "cell_type": "code",
   "execution_count": 23,
   "metadata": {},
   "outputs": [
    {
     "data": {
      "text/plain": [
       "True"
      ]
     },
     "execution_count": 23,
     "metadata": {},
     "output_type": "execute_result"
    }
   ],
   "source": [
    "\n",
    "wandb.login()"
   ]
  },
  {
   "cell_type": "code",
   "execution_count": 24,
   "metadata": {},
   "outputs": [],
   "source": [
    "PROJECT='diabetes-prediction'\n",
    "ENTITY=\"mohammadbakir\""
   ]
  },
  {
   "cell_type": "markdown",
   "metadata": {},
   "source": [
    "## Create a Lauch Queue\n"
   ]
  },
  {
   "cell_type": "code",
   "execution_count": 25,
   "metadata": {},
   "outputs": [],
   "source": [
    "config = {\"label\": \"hyperparams-finetune-optuna\"}\n",
    "api = wandb.Api()\n",
    "try:\n",
    "    queue = api.create_run_queue(\n",
    "            entity=ENTITY,\n",
    "            name=\"diabetes-prediction-queue\",\n",
    "            type=\"local-process\",\n",
    "            access=\"project\",\n",
    "            config=config,\n",
    "        )\n",
    "except CommError as e:\n",
    "    print(e.message)"
   ]
  },
  {
   "cell_type": "markdown",
   "metadata": {},
   "source": [
    "## Create the training job"
   ]
  },
  {
   "cell_type": "code",
   "execution_count": 26,
   "metadata": {},
   "outputs": [
    {
     "name": "stdout",
     "output_type": "stream",
     "text": [
      "\u001b[34m\u001b[1mwandb\u001b[0m: Creating launch job of type: code...\n",
      "\u001b[34m\u001b[1mwandb\u001b[0m: Adding directory to artifact (./.)... Done. 0.0s\n",
      "\u001b[34m\u001b[1mwandb\u001b[0m:                                                                                \n",
      "\u001b[34m\u001b[1mwandb\u001b[0m: Created job: \u001b[33mmohammadbakir/diabetes-prediction/xgb-classifier-diabetes:v0\u001b[0m, with alias: \u001b[33mlatest\u001b[0m\n",
      "\u001b[34m\u001b[1mwandb\u001b[0m: View all jobs in project 'diabetes-prediction' here: \u001b[4mhttps://wandb.ai/mohammadbakir/diabetes-prediction/jobs\u001b[0m\n",
      "\u001b[34m\u001b[1mwandb\u001b[0m: \n"
     ]
    }
   ],
   "source": [
    "!wandb job create -e $ENTITY -p $PROJECT -n \"xgb-classifier-diabetes\" code ./ -E \"xgb_job.py\""
   ]
  },
  {
   "cell_type": "markdown",
   "metadata": {},
   "source": [
    "## Create a function to optimize\n"
   ]
  },
  {
   "cell_type": "code",
   "execution_count": 27,
   "metadata": {},
   "outputs": [],
   "source": [
    "import optuna \n",
    "\n",
    "def objective(trial):\n",
    "    # Define search spaces for hyperparameters\n",
    "    n_estimators = trial.suggest_int('n_estimators', 10, 300)\n",
    "    max_depth = trial.suggest_int('max_depth', 1, 20)\n",
    "    min_child_weight = trial.suggest_float('min_child_weight', 0, 1)\n",
    "    learning_rate = trial.suggest_float('learning_rate', 1e-5, 1, log=True)\n",
    "\n",
    "    print(f\"{n_estimators=} {max_depth=} {min_child_weight=} {learning_rate=}\")\n",
    "\n",
    "    # !! don't actually train, return -1\n",
    "    return -1    "
   ]
  },
  {
   "cell_type": "markdown",
   "metadata": {},
   "source": [
    "### Test the conditional configuration function."
   ]
  },
  {
   "cell_type": "code",
   "execution_count": 28,
   "metadata": {},
   "outputs": [
    {
     "name": "stderr",
     "output_type": "stream",
     "text": [
      "[I 2023-12-04 14:13:28,476] A new study created in memory with name: no-name-4040adbd-a0b4-4e5c-86ba-3f6ea1acd42a\n",
      "[I 2023-12-04 14:13:28,478] Trial 0 finished with value: -1.0 and parameters: {'n_estimators': 161, 'max_depth': 13, 'min_child_weight': 0.6792472113892604, 'learning_rate': 0.0014849622665014895}. Best is trial 0 with value: -1.0.\n",
      "[I 2023-12-04 14:13:28,478] Trial 1 finished with value: -1.0 and parameters: {'n_estimators': 83, 'max_depth': 17, 'min_child_weight': 0.7956743633901568, 'learning_rate': 0.08615004280889102}. Best is trial 0 with value: -1.0.\n"
     ]
    },
    {
     "name": "stdout",
     "output_type": "stream",
     "text": [
      "n_estimators=161 max_depth=13 min_child_weight=0.6792472113892604 learning_rate=0.0014849622665014895\n",
      "n_estimators=83 max_depth=17 min_child_weight=0.7956743633901568 learning_rate=0.08615004280889102\n"
     ]
    }
   ],
   "source": [
    "import optuna \n",
    "# Create an Optuna study\n",
    "study = optuna.create_study(direction=\"maximize\")\n",
    "\n",
    "# Start the optimization process\n",
    "study.optimize(objective, n_trials=2)\n"
   ]
  },
  {
   "cell_type": "markdown",
   "metadata": {},
   "source": [
    "## Save the configuration to W&B as an artifact.\n",
    "\n",
    "Save the conditional search logic to W&B as an artifact."
   ]
  },
  {
   "cell_type": "code",
   "execution_count": 29,
   "metadata": {},
   "outputs": [],
   "source": [
    "ARTIFACT_FILENAME = \"optuna_diabetes_prediction.py\"\n",
    "ARTIFACT_NAME = \"optuna-config-diabetes-prediction\"\n"
   ]
  },
  {
   "cell_type": "code",
   "execution_count": 30,
   "metadata": {},
   "outputs": [
    {
     "data": {
      "text/html": [
       "Tracking run with wandb version 0.16.0"
      ],
      "text/plain": [
       "<IPython.core.display.HTML object>"
      ]
     },
     "metadata": {},
     "output_type": "display_data"
    },
    {
     "data": {
      "text/html": [
       "Run data is saved locally in <code>/Users/mohammad/Documents/support/launch/diabetes_predictions/optuna-wandb-sweeps-hyperparameter-tuning/wandb/run-20231204_141328-gy2swy5f</code>"
      ],
      "text/plain": [
       "<IPython.core.display.HTML object>"
      ]
     },
     "metadata": {},
     "output_type": "display_data"
    },
    {
     "data": {
      "text/html": [
       "Syncing run <strong><a href='https://wandb.ai/mohammadbakir/diabetes-prediction/runs/gy2swy5f' target=\"_blank\">twilight-wood-2</a></strong> to <a href='https://wandb.ai/mohammadbakir/diabetes-prediction' target=\"_blank\">Weights & Biases</a> (<a href='https://wandb.me/run' target=\"_blank\">docs</a>)<br/>"
      ],
      "text/plain": [
       "<IPython.core.display.HTML object>"
      ]
     },
     "metadata": {},
     "output_type": "display_data"
    },
    {
     "data": {
      "text/html": [
       " View project at <a href='https://wandb.ai/mohammadbakir/diabetes-prediction' target=\"_blank\">https://wandb.ai/mohammadbakir/diabetes-prediction</a>"
      ],
      "text/plain": [
       "<IPython.core.display.HTML object>"
      ]
     },
     "metadata": {},
     "output_type": "display_data"
    },
    {
     "data": {
      "text/html": [
       " View run at <a href='https://wandb.ai/mohammadbakir/diabetes-prediction/runs/gy2swy5f' target=\"_blank\">https://wandb.ai/mohammadbakir/diabetes-prediction/runs/gy2swy5f</a>"
      ],
      "text/plain": [
       "<IPython.core.display.HTML object>"
      ]
     },
     "metadata": {},
     "output_type": "display_data"
    },
    {
     "name": "stderr",
     "output_type": "stream",
     "text": [
      "wandb: WARNING Source type is set to 'repo' but some required information is missing from the environment. A job will not be created from this run. See https://docs.wandb.ai/guides/launch/create-job\n"
     ]
    },
    {
     "data": {
      "application/vnd.jupyter.widget-view+json": {
       "model_id": "c7b872aa576948a8aeea71726534f863",
       "version_major": 2,
       "version_minor": 0
      },
      "text/plain": [
       "VBox(children=(Label(value='0.001 MB of 0.001 MB uploaded\\r'), FloatProgress(value=1.0, max=1.0)))"
      ]
     },
     "metadata": {},
     "output_type": "display_data"
    },
    {
     "data": {
      "text/html": [
       " View run <strong style=\"color:#cdcd00\">twilight-wood-2</strong> at: <a href='https://wandb.ai/mohammadbakir/diabetes-prediction/runs/gy2swy5f' target=\"_blank\">https://wandb.ai/mohammadbakir/diabetes-prediction/runs/gy2swy5f</a><br/>Synced 4 W&B file(s), 0 media file(s), 1 artifact file(s) and 1 other file(s)"
      ],
      "text/plain": [
       "<IPython.core.display.HTML object>"
      ]
     },
     "metadata": {},
     "output_type": "display_data"
    },
    {
     "data": {
      "text/html": [
       "Find logs at: <code>./wandb/run-20231204_141328-gy2swy5f/logs</code>"
      ],
      "text/plain": [
       "<IPython.core.display.HTML object>"
      ]
     },
     "metadata": {},
     "output_type": "display_data"
    }
   ],
   "source": [
    "\n",
    "\"\"\"write function to its own file\"\"\"\n",
    "function_lines = inspect.getsource(objective)\n",
    "with open(ARTIFACT_FILENAME, 'w') as f:\n",
    "    f.write(function_lines)\n",
    "\n",
    "\"\"\"create and log artifact to wandb\"\"\"\n",
    "run = wandb.init(entity=ENTITY,project=PROJECT)\n",
    "artifact = run.log_artifact(ARTIFACT_FILENAME, name=ARTIFACT_NAME, type='optuna')\n",
    "run.finish()"
   ]
  },
  {
   "cell_type": "markdown",
   "metadata": {},
   "source": [
    "### The following way of creating the scheduler fails:"
   ]
  },
  {
   "cell_type": "code",
   "execution_count": 31,
   "metadata": {},
   "outputs": [],
   "source": [
    "# !wandb job create --project diabetes-prediction --name \"optuna-scheduler\" git https://github.com/wandb/launch-jobs --entry-point \"jobs/sweep_schedulers/optuna_scheduler/optuna_scheduler.py\""
   ]
  },
  {
   "cell_type": "markdown",
   "metadata": {},
   "source": [
    "So I copied the file from https://github.com/wandb/launch-jobs/blob/main/jobs/sweep_schedulers/optuna_scheduler/optuna_wandb.py into this project and created the job the following way"
   ]
  },
  {
   "cell_type": "code",
   "execution_count": 32,
   "metadata": {},
   "outputs": [
    {
     "name": "stdout",
     "output_type": "stream",
     "text": [
      "\u001b[34m\u001b[1mwandb\u001b[0m: Creating launch job of type: code...\n",
      "\u001b[34m\u001b[1mwandb\u001b[0m: Adding directory to artifact (./.)... Done. 0.0s\n",
      "\u001b[34m\u001b[1mwandb\u001b[0m:                                                                                \n",
      "\u001b[34m\u001b[1mwandb\u001b[0m: Created job: \u001b[33mmohammadbakir/diabetes-prediction/optuna-scheduler:v0\u001b[0m, with alias: \u001b[33mlatest\u001b[0m\n",
      "\u001b[34m\u001b[1mwandb\u001b[0m: View all jobs in project 'diabetes-prediction' here: \u001b[4mhttps://wandb.ai/mohammadbakir/diabetes-prediction/jobs\u001b[0m\n",
      "\u001b[34m\u001b[1mwandb\u001b[0m: \n"
     ]
    }
   ],
   "source": [
    "!wandb job create --entity=\"mohammadbakir\" --project diabetes-prediction --name \"optuna-scheduler\" code ./ -E \"optuna_scheduler.py\""
   ]
  },
  {
   "cell_type": "code",
   "execution_count": 33,
   "metadata": {},
   "outputs": [
    {
     "name": "stdout",
     "output_type": "stream",
     "text": [
      "\u001b[34m\u001b[1mwandb\u001b[0m: Creating launch job of type: git...\n",
      "\u001b[34m\u001b[1mwandb\u001b[0m: Using requirements.txt in /\n",
      "\u001b[34m\u001b[1mwandb\u001b[0m:                                                                                \n",
      "\u001b[34m\u001b[1mwandb\u001b[0m: Updated job: \u001b[33mmohammadbakir/diabetes-prediction/optuna-scheduler:v1\u001b[0m, with alias: \u001b[33mlatest\u001b[0m\n",
      "\u001b[34m\u001b[1mwandb\u001b[0m: View all jobs in project 'diabetes-prediction' here: \u001b[4mhttps://wandb.ai/mohammadbakir/diabetes-prediction/jobs\u001b[0m\n",
      "\u001b[34m\u001b[1mwandb\u001b[0m: \n"
     ]
    }
   ],
   "source": [
    "!wandb job create --entity $ENTITY --project diabetes-prediction --name \"optuna-scheduler\" git https://github.com/MBakirWB/launch_testing \\\n",
    "     --entry-point \"optuna-wandb-sweeps-hyperparameter-tuning/optuna_scheduler.py\""
   ]
  },
  {
   "cell_type": "markdown",
   "metadata": {},
   "source": [
    "## Define a sweep configuration"
   ]
  },
  {
   "cell_type": "code",
   "execution_count": 34,
   "metadata": {},
   "outputs": [],
   "source": [
    "config = {\n",
    "    \"metric\": {\"name\": \"validation_0-custom_recall_score\", \"goal\": \"maximize\"},\n",
    "    \"run_cap\": 4,\n",
    "    \"job\": f\"{ENTITY}/diabetes-prediction/xgb-classifier-diabetes:latest\",\n",
    "    \"scheduler\": {\n",
    "        \"job\": f\"{ENTITY}/diabetes-prediction/optuna-scheduler:latest\",\n",
    "        \"num_workers\": 2,\n",
    "        \"settings\": {\n",
    "            \"optuna_source\": f\"{ENTITY}/{PROJECT}/{ARTIFACT_NAME}:latest\",\n",
    "            \"optuna_source_filename\": ARTIFACT_FILENAME,\n",
    "        }\n",
    "    },\n",
    "}\n",
    "\n",
    "# write config to file\n",
    "config_filename = \"sweep-config.yaml\"\n",
    "yaml.dump(config, open(config_filename, \"w\"))"
   ]
  },
  {
   "cell_type": "markdown",
   "metadata": {},
   "source": [
    "## Launch the agent\n",
    "\n",
    "Run from CLI\n",
    "\n",
    "```shell\n",
    "wandb launch-agent -q diabetes-prediction-queue\n",
    "```"
   ]
  },
  {
   "cell_type": "markdown",
   "metadata": {},
   "source": [
    "## Launch the sweep"
   ]
  },
  {
   "cell_type": "code",
   "execution_count": 35,
   "metadata": {},
   "outputs": [
    {
     "name": "stdout",
     "output_type": "stream",
     "text": [
      "\u001b[34m\u001b[1mwandb\u001b[0m: \u001b[33mWARNING\u001b[0m Using a scheduler job for launch sweeps is *experimental* and may change without warning\n",
      "\u001b[34m\u001b[1mwandb\u001b[0m:   2 of 2 files downloaded.  \n"
     ]
    },
    {
     "name": "stderr",
     "output_type": "stream",
     "text": [
      "wandb: WARNING No program path found, not creating job artifact. See https://docs.wandb.ai/guides/launch/create-job\n"
     ]
    },
    {
     "name": "stdout",
     "output_type": "stream",
     "text": [
      "\u001b[34m\u001b[1mwandb\u001b[0m:                                                                                \n",
      "\u001b[34m\u001b[1mwandb\u001b[0m:   2 of 2 files downloaded.  \n",
      "\u001b[34m\u001b[1mwandb\u001b[0m: - 0.001 MB of 0.001 MB uploaded\r"
     ]
    },
    {
     "name": "stderr",
     "output_type": "stream",
     "text": [
      "wandb: WARNING No program path found, not creating job artifact. See https://docs.wandb.ai/guides/launch/create-job\n"
     ]
    },
    {
     "name": "stdout",
     "output_type": "stream",
     "text": [
      "\u001b[34m\u001b[1mwandb\u001b[0m:                                                                                \n",
      "\u001b[34m\u001b[1mwandb\u001b[0m: \u001b[35mlaunch:\u001b[0m Launching run into mohammadbakir/diabetes-prediction\n",
      "\u001b[34m\u001b[1mwandb\u001b[0m: \u001b[33mWARNING\u001b[0m Malformed sweep config detected! This may cause your sweep to behave in unexpected ways.\n",
      "\u001b[34m\u001b[1mwandb\u001b[0m: \u001b[33mWARNING\u001b[0m To avoid this, please fix the sweep config schema violations below:\n",
      "\u001b[34m\u001b[1mwandb\u001b[0m: \u001b[33mWARNING\u001b[0m   Violation 1. 'parameters' is a required property\n",
      "\u001b[34m\u001b[1mwandb\u001b[0m: Created sweep with ID: \u001b[33m6xmx1mlj\u001b[0m\n",
      "\u001b[34m\u001b[1mwandb\u001b[0m: View sweep at: \u001b[34m\u001b[4mhttps://wandb.ai/mohammadbakir/diabetes-prediction/sweeps/6xmx1mlj\u001b[0m\n",
      "\u001b[34m\u001b[1mwandb\u001b[0m: Scheduler added to launch queue (diabetes-prediction-queue)\n"
     ]
    }
   ],
   "source": [
    "! wandb launch-sweep sweep-config.yaml -e $ENTITY -p $PROJECT -q diabetes-prediction-queue"
   ]
  }
 ],
 "metadata": {
  "kernelspec": {
   "display_name": "ml-zoomcamp-midterm-alex",
   "language": "python",
   "name": "python3"
  },
  "language_info": {
   "codemirror_mode": {
    "name": "ipython",
    "version": 3
   },
   "file_extension": ".py",
   "mimetype": "text/x-python",
   "name": "python",
   "nbconvert_exporter": "python",
   "pygments_lexer": "ipython3",
   "version": "3.10.11"
  }
 },
 "nbformat": 4,
 "nbformat_minor": 2
}
